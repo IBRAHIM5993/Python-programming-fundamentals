{
 "cells": [
  {
   "cell_type": "code",
   "execution_count": 1,
   "id": "b978059c-ff1b-46b8-b32c-e554111069c0",
   "metadata": {},
   "outputs": [],
   "source": [
    "#understanding the concept of f stings:"
   ]
  },
  {
   "cell_type": "code",
   "execution_count": null,
   "id": "b130de28-5359-407f-8661-2552c98993a3",
   "metadata": {},
   "outputs": [],
   "source": []
  },
  {
   "cell_type": "code",
   "execution_count": 3,
   "id": "c3da8f72-c6ec-4d02-85c9-20b6720970a6",
   "metadata": {},
   "outputs": [],
   "source": [
    "# General syntax of f strings\n",
    "\n",
    "# f\"custom message {placeholder-1} {placeholder-2} ........{placeholder-n}\""
   ]
  },
  {
   "cell_type": "code",
   "execution_count": 9,
   "id": "2fbb7fde-bd43-4b95-ba5f-44c84697ea07",
   "metadata": {},
   "outputs": [
    {
     "name": "stdout",
     "output_type": "stream",
     "text": [
      "pradeep kumar\n"
     ]
    }
   ],
   "source": [
    "firstname = \"pradeep\"\n",
    "lastname = \"kumar\"\n",
    "\n",
    "# i want to get the fullname...\n",
    "\n",
    "fullname = f\"{firstname} {lastname}\"\n",
    "print(fullname)\n"
   ]
  },
  {
   "cell_type": "code",
   "execution_count": 10,
   "id": "6cc76a1d-02e2-433e-b2d9-e22e28c6b555",
   "metadata": {},
   "outputs": [
    {
     "name": "stdout",
     "output_type": "stream",
     "text": [
      "Pradeep Kumar\n"
     ]
    }
   ],
   "source": [
    "print(fullname.title())"
   ]
  },
  {
   "cell_type": "code",
   "execution_count": 13,
   "id": "66248577-5737-4e2c-be3c-264952e73518",
   "metadata": {},
   "outputs": [
    {
     "name": "stdout",
     "output_type": "stream",
     "text": [
      "Keep up the Good work, Pradeep Kumar\n"
     ]
    }
   ],
   "source": [
    "#adding some message\n",
    "\n",
    "message = f\"Keep up the Good work, {fullname.title()}\"\n",
    "print(message)"
   ]
  },
  {
   "cell_type": "code",
   "execution_count": 14,
   "id": "b5637c00-129c-4659-9ba6-f4e1a24ab9e0",
   "metadata": {},
   "outputs": [
    {
     "name": "stdout",
     "output_type": "stream",
     "text": [
      "fav_prog_language:pythonjavac++swiftc\n"
     ]
    }
   ],
   "source": [
    "#adding whitespaces to Strings:\n",
    "\n",
    "print(\"fav_prog_language:pythonjavac++swiftc\")"
   ]
  },
  {
   "cell_type": "code",
   "execution_count": 17,
   "id": "0ad5991c-9bb0-48a6-a8c8-db303149b8fa",
   "metadata": {},
   "outputs": [
    {
     "name": "stdout",
     "output_type": "stream",
     "text": [
      "fav_prog_language:\n",
      "python\n",
      "java\n",
      "c++\n",
      "swift\n",
      "c\n"
     ]
    }
   ],
   "source": [
    "print(\"fav_prog_language:\\npython\\njava\\nc++\\nswift\\nc\")   # \\n is the new line delimeter to create a new line"
   ]
  },
  {
   "cell_type": "code",
   "execution_count": 18,
   "id": "25e68d3f-9e90-4cf9-8da5-6d20c49e8709",
   "metadata": {},
   "outputs": [
    {
     "name": "stdout",
     "output_type": "stream",
     "text": [
      "fav_prog_language: \n",
      "\tpython\n",
      "\tjava\n",
      "\tc++\n",
      "\tswift\n",
      "\tc\n"
     ]
    }
   ],
   "source": [
    "print(\"fav_prog_language: \\n\\tpython\\n\\tjava\\n\\tc++\\n\\tswift\\n\\tc\")    #\\t is the tab delimeter to create a tab space"
   ]
  },
  {
   "cell_type": "code",
   "execution_count": 19,
   "id": "15b57b47-59ba-4d73-90ba-6fe426655e09",
   "metadata": {},
   "outputs": [
    {
     "name": "stdout",
     "output_type": "stream",
     "text": [
      "      python\n"
     ]
    }
   ],
   "source": [
    "# Removing whitespaces from the strings:\n",
    "\n",
    "name = \"      python\"    # gap is on the left side\n",
    "print(name)"
   ]
  },
  {
   "cell_type": "code",
   "execution_count": 20,
   "id": "fa4efc5e-6cf6-4ef2-ac36-4ef9bcd02220",
   "metadata": {},
   "outputs": [
    {
     "name": "stdout",
     "output_type": "stream",
     "text": [
      "python      \n"
     ]
    }
   ],
   "source": [
    "name2 = \"python      \"   # gap is on the right side\n",
    "print(name2)"
   ]
  },
  {
   "cell_type": "code",
   "execution_count": 22,
   "id": "0f218928-f9c3-4e69-a58b-fd9cc1f9d0f8",
   "metadata": {},
   "outputs": [
    {
     "data": {
      "text/plain": [
       "'python'"
      ]
     },
     "execution_count": 22,
     "metadata": {},
     "output_type": "execute_result"
    }
   ],
   "source": [
    "name.lstrip()       #lstrip method for removing left side whitespaces in a string"
   ]
  },
  {
   "cell_type": "code",
   "execution_count": 23,
   "id": "39691f46-7aff-408e-8245-13454ff840d6",
   "metadata": {},
   "outputs": [
    {
     "data": {
      "text/plain": [
       "'python'"
      ]
     },
     "execution_count": 23,
     "metadata": {},
     "output_type": "execute_result"
    }
   ],
   "source": [
    "name2.rstrip()       #rstrip method for removing right side whitespaces in a string"
   ]
  },
  {
   "cell_type": "code",
   "execution_count": 24,
   "id": "4d3ba10a-2796-4757-9c65-d891daa332bf",
   "metadata": {},
   "outputs": [
    {
     "name": "stdout",
     "output_type": "stream",
     "text": [
      "    python    \n"
     ]
    }
   ],
   "source": [
    "name4 = \"    python    \"    # gap is on the both side\n",
    "print(name4)"
   ]
  },
  {
   "cell_type": "code",
   "execution_count": 25,
   "id": "94bfa40e-0399-47b4-8f23-de13eeb462b2",
   "metadata": {},
   "outputs": [
    {
     "data": {
      "text/plain": [
       "'python'"
      ]
     },
     "execution_count": 25,
     "metadata": {},
     "output_type": "execute_result"
    }
   ],
   "source": [
    "name4.strip()             #strip method for removing both side whitespaces in a string"
   ]
  },
  {
   "cell_type": "code",
   "execution_count": null,
   "id": "9d2da537-8d4b-4d46-9d12-743cb78f8b7f",
   "metadata": {},
   "outputs": [],
   "source": []
  }
 ],
 "metadata": {
  "kernelspec": {
   "display_name": "Python 3 (ipykernel)",
   "language": "python",
   "name": "python3"
  },
  "language_info": {
   "codemirror_mode": {
    "name": "ipython",
    "version": 3
   },
   "file_extension": ".py",
   "mimetype": "text/x-python",
   "name": "python",
   "nbconvert_exporter": "python",
   "pygments_lexer": "ipython3",
   "version": "3.11.7"
  }
 },
 "nbformat": 4,
 "nbformat_minor": 5
}
