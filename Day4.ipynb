{
 "cells": [
  {
   "cell_type": "code",
   "execution_count": 2,
   "id": "0e98fd44-07cf-438c-861e-6598efa42c77",
   "metadata": {},
   "outputs": [],
   "source": [
    "# Introduction to \"list\" datatype:"
   ]
  },
  {
   "cell_type": "code",
   "execution_count": 3,
   "id": "5cc7dd93-d7ef-498b-9373-9929d86bdcd5",
   "metadata": {},
   "outputs": [],
   "source": [
    "# A list is a collection of item declared in a particular order.\n",
    "\n",
    "# It is classified as a mutable datatype."
   ]
  },
  {
   "cell_type": "code",
   "execution_count": 4,
   "id": "3b4f9b84-c91e-452a-9fbc-c9977122baa6",
   "metadata": {},
   "outputs": [],
   "source": [
    "# how to define / declare the \"list\" datatype ....... []"
   ]
  },
  {
   "cell_type": "code",
   "execution_count": 6,
   "id": "3b5b4cd9-6f8c-46e3-a276-ebb0e98dbbb1",
   "metadata": {},
   "outputs": [
    {
     "name": "stdout",
     "output_type": "stream",
     "text": [
      "['afsha', 'pradeepa', 'naveen', 'prakash', 'muskaan', 'abdul']\n"
     ]
    }
   ],
   "source": [
    "students = ['afsha', 'pradeepa', 'naveen', 'prakash', 'muskaan', 'abdul']\n",
    "print(students)"
   ]
  },
  {
   "cell_type": "code",
   "execution_count": 7,
   "id": "19d33d42-48dc-4f8c-aa99-0bd1a9c3cab9",
   "metadata": {},
   "outputs": [
    {
     "data": {
      "text/plain": [
       "list"
      ]
     },
     "execution_count": 7,
     "metadata": {},
     "output_type": "execute_result"
    }
   ],
   "source": [
    "type(students)              #datatype checkling method"
   ]
  },
  {
   "cell_type": "code",
   "execution_count": 9,
   "id": "651868cc-f4b9-4776-8ffa-9042cde837c8",
   "metadata": {},
   "outputs": [],
   "source": [
    "# Introduction to indexing:\n",
    "# Indexing will be starting from the value \"0\" onwards ....."
   ]
  },
  {
   "cell_type": "code",
   "execution_count": 10,
   "id": "ffdbee7e-51aa-45dc-9f36-663ea4e07867",
   "metadata": {},
   "outputs": [
    {
     "name": "stdout",
     "output_type": "stream",
     "text": [
      "pradeepa\n"
     ]
    }
   ],
   "source": [
    "# I want to get pradeepa name in the output\n",
    "print(students[1])"
   ]
  },
  {
   "cell_type": "code",
   "execution_count": 11,
   "id": "beed2848-f914-4805-94bc-82c511dac655",
   "metadata": {},
   "outputs": [
    {
     "name": "stdout",
     "output_type": "stream",
     "text": [
      "Pradeepa\n"
     ]
    }
   ],
   "source": [
    "print(students[1].title())"
   ]
  },
  {
   "cell_type": "code",
   "execution_count": 12,
   "id": "a4c08c1b-7d90-46b8-8fc7-fa5327e27e93",
   "metadata": {},
   "outputs": [
    {
     "name": "stdout",
     "output_type": "stream",
     "text": [
      "Muskaan\n"
     ]
    }
   ],
   "source": [
    "# i want to get muskaan name in the output\n",
    "print(students[4].title())"
   ]
  },
  {
   "cell_type": "code",
   "execution_count": 14,
   "id": "10efbd89-34ce-4e35-abe9-2b7dd898f022",
   "metadata": {},
   "outputs": [
    {
     "name": "stdout",
     "output_type": "stream",
     "text": [
      "['afsha', 'pradeepa', 'naveen', 'prakash', 'muskaan', 'abdul', 'joseph', 'joseph']\n"
     ]
    }
   ],
   "source": [
    "# How to add new elements to the list:\n",
    "\n",
    "# req: i want to add joseph to the above list\n",
    "\n",
    "students.append('joseph')\n",
    "print(students)"
   ]
  },
  {
   "cell_type": "code",
   "execution_count": 15,
   "id": "7dd7a2fb-f78f-4457-9f86-fe20fed7724e",
   "metadata": {},
   "outputs": [
    {
     "name": "stdout",
     "output_type": "stream",
     "text": [
      "['afsha', 'pradeepa', 'naveen', 'prakash', 'muskaan', 'abdul', 'joseph', 'joseph', 'muneeb']\n"
     ]
    }
   ],
   "source": [
    "# req: i want to add muneeb to the above list\n",
    "\n",
    "students.append('muneeb')\n",
    "print(students)"
   ]
  },
  {
   "cell_type": "code",
   "execution_count": 18,
   "id": "0d87512e-8c50-4027-8207-0cac7190f3de",
   "metadata": {},
   "outputs": [
    {
     "name": "stdout",
     "output_type": "stream",
     "text": [
      "['anees', 'afsha', 'pradeepa', 'anees', 'naveen', 'prakash', 'anees', 'muskaan', 'abdul', 'joseph', 'joseph', 'muneeb']\n"
     ]
    }
   ],
   "source": [
    "# req: i want to add anees to the above list ... in the 2nd index position\n",
    "\n",
    "students.insert(0, 'anees')\n",
    "print(students)"
   ]
  },
  {
   "cell_type": "code",
   "execution_count": 19,
   "id": "9cf3e39a-c3cb-4e85-9fb3-cfe92a803ea1",
   "metadata": {},
   "outputs": [],
   "source": [
    "# ! INTERVIEW QUESTION: What is the difference between append and insert method in a list, can you please explain?"
   ]
  },
  {
   "cell_type": "code",
   "execution_count": 20,
   "id": "e1095df6-efd7-4400-8083-2ea7887f22af",
   "metadata": {},
   "outputs": [
    {
     "name": "stdout",
     "output_type": "stream",
     "text": [
      "['anees', 'afsha', 'pradeepa', 'anees', 'naveen', 'sonam', 'anees', 'muskaan', 'abdul', 'joseph', 'joseph', 'muneeb']\n"
     ]
    }
   ],
   "source": [
    "# How to modify the elements in the list:\n",
    "\n",
    "# I want to modify the prakash name to sonam\n",
    "\n",
    "students[5] = 'sonam'\n",
    "print(students)\n"
   ]
  },
  {
   "cell_type": "code",
   "execution_count": 21,
   "id": "6edb6815-1c8f-47ee-b67f-f48f5ea2cd8a",
   "metadata": {},
   "outputs": [
    {
     "name": "stdout",
     "output_type": "stream",
     "text": [
      "['anees', 'afsha', 'pradeepa', 'anees', 'naveen', 'anees', 'muskaan', 'abdul', 'joseph', 'joseph', 'muneeb']\n"
     ]
    }
   ],
   "source": [
    " # How to delete the elements in the list:\n",
    "\n",
    "# i want to delete sonam from the list\n",
    "\n",
    "del students[5]         # it will do permanent delete\n",
    "print(students)"
   ]
  },
  {
   "cell_type": "code",
   "execution_count": 22,
   "id": "4cfe0062-163e-4e9e-9800-f95184283f58",
   "metadata": {},
   "outputs": [
    {
     "name": "stdout",
     "output_type": "stream",
     "text": [
      "['anees', 'afsha', 'pradeepa', 'anees', 'naveen', 'anees', 'muskaan', 'abdul', 'joseph', 'joseph', 'muneeb']\n"
     ]
    }
   ],
   "source": [
    "# temp deleting the elements using pop method:\n",
    "\n",
    "# pop will be by default deleting the last elements in the list\n",
    "\n",
    "print(students)"
   ]
  },
  {
   "cell_type": "code",
   "execution_count": 23,
   "id": "4b5e36f8-666d-43e9-b930-4de006938c4f",
   "metadata": {},
   "outputs": [
    {
     "name": "stdout",
     "output_type": "stream",
     "text": [
      "['anees', 'afsha', 'pradeepa', 'anees', 'naveen', 'anees', 'muskaan', 'abdul', 'joseph', 'joseph']\n"
     ]
    }
   ],
   "source": [
    "x = students.pop()\n",
    "print(students)"
   ]
  },
  {
   "cell_type": "code",
   "execution_count": 24,
   "id": "bacb44ac-fd35-43b5-b693-b9588622c9d0",
   "metadata": {},
   "outputs": [
    {
     "name": "stdout",
     "output_type": "stream",
     "text": [
      "muneeb\n"
     ]
    }
   ],
   "source": [
    "print(x)"
   ]
  },
  {
   "cell_type": "code",
   "execution_count": null,
   "id": "aea7f415-4fa7-4d46-9a7e-8578d4bee89a",
   "metadata": {},
   "outputs": [],
   "source": [
    "# ! INTERVIEW QUESTION: What is the difference between delete and pop method in a list, can you please explain?"
   ]
  }
 ],
 "metadata": {
  "kernelspec": {
   "display_name": "Python 3 (ipykernel)",
   "language": "python",
   "name": "python3"
  },
  "language_info": {
   "codemirror_mode": {
    "name": "ipython",
    "version": 3
   },
   "file_extension": ".py",
   "mimetype": "text/x-python",
   "name": "python",
   "nbconvert_exporter": "python",
   "pygments_lexer": "ipython3",
   "version": "3.11.7"
  }
 },
 "nbformat": 4,
 "nbformat_minor": 5
}
