{
 "cells": [
  {
   "cell_type": "code",
   "execution_count": null,
   "id": "39f94b2c-20a5-4e0b-b87c-ec05ba27c049",
   "metadata": {},
   "outputs": [],
   "source": [
    "print(\"Hello all welcome to the phython "
   ]
  },
  {
   "cell_type": "code",
   "execution_count": null,
   "id": "837b1a33-0187-45a2-ab0f-db326ec00a10",
   "metadata": {},
   "outputs": [],
   "source": []
  },
  {
   "cell_type": "code",
   "execution_count": null,
   "id": "389fb363-8dd8-47bb-9a0a-511294905cb3",
   "metadata": {},
   "outputs": [],
   "source": []
  }
 ],
 "metadata": {
  "kernelspec": {
   "display_name": "Python 3 (ipykernel)",
   "language": "python",
   "name": "python3"
  },
  "language_info": {
   "codemirror_mode": {
    "name": "ipython",
    "version": 3
   },
   "file_extension": ".py",
   "mimetype": "text/x-python",
   "name": "python",
   "nbconvert_exporter": "python",
   "pygments_lexer": "ipython3",
   "version": "3.11.7"
  }
 },
 "nbformat": 4,
 "nbformat_minor": 5
}
